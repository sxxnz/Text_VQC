{
 "cells": [
  {
   "cell_type": "code",
   "execution_count": 1,
   "metadata": {},
   "outputs": [],
   "source": [
    "import gensim\n",
    "import pandas as pd\n",
    "import numpy as np\n",
    "import tensorflow as tf\n",
    "from tensorflow import keras\n",
    "from numpy import mean\n",
    "from numpy import std\n",
    "from matplotlib import pyplot as plt\n",
    "from sklearn.model_selection import KFold\n",
    "from tensorflow.keras.datasets import mnist\n",
    "from tensorflow.keras.utils import to_categorical\n",
    "from tensorflow.keras.models import Sequential\n",
    "from tensorflow.keras.layers import Conv2D\n",
    "from tensorflow.keras.layers import MaxPooling2D\n",
    "from tensorflow.keras.layers import Dense\n",
    "from tensorflow.keras.layers import Flatten\n",
    "from tensorflow.keras.optimizers import SGD\n",
    "from tensorflow.keras.layers import TextVectorization\n",
    "from sklearn.model_selection import train_test_split"
   ]
  },
  {
   "cell_type": "code",
   "execution_count": 2,
   "metadata": {},
   "outputs": [],
   "source": [
    "import spacy\n",
    "nlp = spacy.load('en_core_web_sm')"
   ]
  },
  {
   "cell_type": "code",
   "execution_count": 3,
   "metadata": {},
   "outputs": [],
   "source": [
    "import gensim.downloader as api\n",
    "wv = api.load('word2vec-google-news-300')"
   ]
  },
  {
   "cell_type": "code",
   "execution_count": 4,
   "metadata": {},
   "outputs": [],
   "source": [
    "\"\"\" Adapted from https://weiliu2k.github.io/CITS4012/embeddings/svd.html#using-svd-to-reduce-to-k-dim\n",
    "\n",
    "\"\"\"\n",
    "import sklearn\n",
    "from sklearn.decomposition import TruncatedSVD\n",
    "from sklearn.decomposition import PCA\n",
    "def reduce_to_k_dim(M, k=2):\n",
    "    \"\"\" Reduce a co-occurence count matrix of dimensionality (num_corpus_words, num_corpus_words)\n",
    "        to a matrix of dimensionality (num_corpus_words, k) using the following SVD function from Scikit-Learn:\n",
    "            - http://scikit-learn.org/stable/modules/generated/sklearn.decomposition.TruncatedSVD.html\n",
    "    \n",
    "        Params:\n",
    "            M (numpy matrix of shape (number of unique words in the corpus , number of unique words in the corpus)): co-occurence matrix of word counts\n",
    "            k (int): embedding size of each word after dimension reduction\n",
    "        Return:\n",
    "            M_reduced (numpy matrix of shape (number of corpus words, k)): matrix of k-dimensioal word embeddings.\n",
    "                    In terms of the SVD from math class, this actually returns U * S\n",
    "    \"\"\"    \n",
    "    n_iters = 10     \n",
    "    M_reduced = None\n",
    "    print(\"Running Truncated SVD over %i words...\" % (M.shape[0]))\n",
    "    \n",
    "        # ------------------\n",
    "        # Write your implementation here.\n",
    "    M_r = sklearn.decomposition.TruncatedSVD(n_components=k,\n",
    "                                            algorithm='randomized', \n",
    "                                            n_iter=n_iters, \n",
    "                                            random_state=None, \n",
    "                                            tol=0.0)\n",
    "    M_reduced = M_r.fit_transform(M)\n",
    "        # ------------------\n",
    "\n",
    "    print(\"Done.\")\n",
    "    return M_reduced"
   ]
  },
  {
   "cell_type": "code",
   "execution_count": 5,
   "metadata": {},
   "outputs": [
    {
     "data": {
      "text/plain": [
       "3    50\n",
       "4    50\n",
       "Name: Label, dtype: int64"
      ]
     },
     "execution_count": 5,
     "metadata": {},
     "output_type": "execute_result"
    }
   ],
   "source": [
    "# Read raw data, select 2 classes and random select 50 data point from each class\n",
    "ag_raw = pd.read_csv('../datasets/train.csv',usecols = ['Label','Title'])\n",
    "ag_1_raw = ag_raw.loc[(ag_raw['Label']== 4) | (ag_raw['Label']== 3)]\n",
    "ag_23 = ag_1_raw.groupby('Label').apply(lambda x: x.sample(50,random_state=2))\n",
    "ag_23[\"Label\"].value_counts()"
   ]
  },
  {
   "cell_type": "code",
   "execution_count": 6,
   "metadata": {},
   "outputs": [],
   "source": [
    "# Convert class value 3 and 4 to 0 and 1\n",
    "ag_label_lst_raw = ag_23['Label'].to_list()  \n",
    "ag_label_lst = []\n",
    "for l in ag_label_lst_raw:\n",
    "    if l == 3:\n",
    "        ag_label_lst.append(0)\n",
    "    else:\n",
    "        ag_label_lst.append(1)\n",
    "\n",
    "ag_label = np.array(ag_label_lst)"
   ]
  },
  {
   "cell_type": "code",
   "execution_count": 7,
   "metadata": {},
   "outputs": [],
   "source": [
    "# Tokenization\n",
    "title_list = []\n",
    "for i in range(len(ag_23)):\n",
    "    doc  = nlp(ag_23.iloc[i,1])\n",
    "    sent = []\n",
    "    for token in doc:\n",
    "        if not token.is_punct and not token.is_stop and token.is_alpha:\n",
    "            if token.ent_type == 0:\n",
    "                sent.append(token.text.lower())\n",
    "            else:\n",
    "                sent.append(token.text)\n",
    "    title_list.append(sent)"
   ]
  },
  {
   "cell_type": "code",
   "execution_count": 8,
   "metadata": {},
   "outputs": [],
   "source": [
    "# Vocab\n",
    "all_token = [ token for lst in title_list for token in lst]\n",
    "all_token = list(set(all_token))"
   ]
  },
  {
   "cell_type": "code",
   "execution_count": 9,
   "metadata": {},
   "outputs": [],
   "source": [
    "# Match word embeddings and remove word from vocab that doesn't have embedding in pre-trained model\n",
    "token_vector   = [wv[token] for token in all_token if token in wv.index_to_key]\n",
    "filtered_token = [token for token in all_token if token in wv.index_to_key]"
   ]
  },
  {
   "cell_type": "code",
   "execution_count": 10,
   "metadata": {},
   "outputs": [],
   "source": [
    "# Insert an empty token\n",
    "filtered_token.insert(0,'')"
   ]
  },
  {
   "cell_type": "code",
   "execution_count": 11,
   "metadata": {},
   "outputs": [
    {
     "data": {
      "text/plain": [
       "(459, 453, 454)"
      ]
     },
     "execution_count": 11,
     "metadata": {},
     "output_type": "execute_result"
    }
   ],
   "source": [
    "len(all_token),len(token_vector),len(filtered_token)"
   ]
  },
  {
   "cell_type": "code",
   "execution_count": 12,
   "metadata": {},
   "outputs": [],
   "source": [
    "# Insert full zero embedding for empty token\n",
    "allzero = np.zeros((300),dtype=np.float32)\n",
    "token_vector.insert(0,allzero)\n",
    "embeddings= np.array(token_vector)"
   ]
  },
  {
   "cell_type": "code",
   "execution_count": 13,
   "metadata": {},
   "outputs": [],
   "source": [
    "# training_sent = []\n",
    "# for title in title_list:\n",
    "#     sent = ''\n",
    "#     for word in title:\n",
    "#         sent += word + ' '\n",
    "#     sentence = sent[:-1]\n",
    "#     training_sent.append(sentence)"
   ]
  },
  {
   "cell_type": "code",
   "execution_count": 15,
   "metadata": {},
   "outputs": [],
   "source": [
    "# Remove word that doesn't have embedding in word2vec\n",
    "for sent in title_list:\n",
    "    for word in sent:\n",
    "        if word  not in filtered_token:\n",
    "            sent.remove(word)"
   ]
  },
  {
   "cell_type": "code",
   "execution_count": 16,
   "metadata": {},
   "outputs": [],
   "source": [
    "# check if any word not exist in word2vec embedding\n",
    "for sent in title_list:\n",
    "    for word in sent:\n",
    "        if word  not in filtered_token:\n",
    "            print(word,'not exist','from',sent)"
   ]
  },
  {
   "cell_type": "code",
   "execution_count": 17,
   "metadata": {},
   "outputs": [],
   "source": [
    "vocab = dict(zip(filtered_token, range(len(filtered_token))))"
   ]
  },
  {
   "cell_type": "code",
   "execution_count": 18,
   "metadata": {},
   "outputs": [],
   "source": [
    "class_names=['Business','Sci/Tech']"
   ]
  },
  {
   "cell_type": "markdown",
   "metadata": {},
   "source": [
    "------------\n"
   ]
  },
  {
   "cell_type": "code",
   "execution_count": 19,
   "metadata": {},
   "outputs": [],
   "source": [
    "# Match word to id\n",
    "sent_wordid = []\n",
    "for sent in title_list:\n",
    "    wordid  = []\n",
    "    for word in sent:\n",
    "        wordid.append(vocab.get(word))\n",
    "    sent_wordid.append(wordid)"
   ]
  },
  {
   "cell_type": "code",
   "execution_count": 20,
   "metadata": {},
   "outputs": [],
   "source": [
    "# Fill each sentence size to 200\n",
    "for sent in sent_wordid:\n",
    "    length = 200 - len(sent)\n",
    "    sent += length * [0]"
   ]
  },
  {
   "cell_type": "code",
   "execution_count": 21,
   "metadata": {},
   "outputs": [],
   "source": [
    "x_raw = np.array(sent_wordid)"
   ]
  },
  {
   "cell_type": "code",
   "execution_count": 22,
   "metadata": {},
   "outputs": [],
   "source": [
    "x_train,x_test, y_train,y_test = train_test_split(x_raw,ag_label, test_size = 0.3, random_state=42)"
   ]
  },
  {
   "cell_type": "code",
   "execution_count": 23,
   "metadata": {},
   "outputs": [],
   "source": [
    "from tensorflow.keras.layers import Embedding\n",
    "\n",
    "num_tokens = len(vocab)\n",
    "embedding_dim = 300\n",
    "\n",
    "embedding_layer = Embedding(\n",
    "    num_tokens,\n",
    "    embedding_dim,\n",
    "    embeddings_initializer=keras.initializers.Constant(embeddings),   # Pass in embedding matrix\n",
    "    trainable=False,\n",
    ")"
   ]
  },
  {
   "cell_type": "code",
   "execution_count": 24,
   "metadata": {},
   "outputs": [
    {
     "name": "stdout",
     "output_type": "stream",
     "text": [
      "Model: \"model\"\n",
      "_________________________________________________________________\n",
      " Layer (type)                Output Shape              Param #   \n",
      "=================================================================\n",
      " input_1 (InputLayer)        [(None, None)]            0         \n",
      "                                                                 \n",
      " embedding (Embedding)       (None, None, 300)         136200    \n",
      "                                                                 \n",
      " conv1d (Conv1D)             (None, None, 128)         192128    \n",
      "                                                                 \n",
      " max_pooling1d (MaxPooling1D  (None, None, 128)        0         \n",
      " )                                                               \n",
      "                                                                 \n",
      " conv1d_1 (Conv1D)           (None, None, 128)         82048     \n",
      "                                                                 \n",
      " max_pooling1d_1 (MaxPooling  (None, None, 128)        0         \n",
      " 1D)                                                             \n",
      "                                                                 \n",
      " conv1d_2 (Conv1D)           (None, None, 128)         82048     \n",
      "                                                                 \n",
      " global_max_pooling1d (Globa  (None, 128)              0         \n",
      " lMaxPooling1D)                                                  \n",
      "                                                                 \n",
      " dense (Dense)               (None, 128)               16512     \n",
      "                                                                 \n",
      " dropout (Dropout)           (None, 128)               0         \n",
      "                                                                 \n",
      " dense_1 (Dense)             (None, 2)                 258       \n",
      "                                                                 \n",
      "=================================================================\n",
      "Total params: 509,194\n",
      "Trainable params: 372,994\n",
      "Non-trainable params: 136,200\n",
      "_________________________________________________________________\n"
     ]
    }
   ],
   "source": [
    "from tensorflow.keras import layers\n",
    "\n",
    "# Construct textCNN model\n",
    "fz = 128\n",
    "ker =5\n",
    "\n",
    "int_sequences_input = keras.Input(shape=(None,), dtype=\"int64\")\n",
    "embedded_sequences = embedding_layer(int_sequences_input)\n",
    "x = layers.Conv1D(fz, ker, activation=\"relu\")(embedded_sequences)\n",
    "x = layers.MaxPooling1D(5)(x)\n",
    "x = layers.Conv1D(fz, ker, activation=\"relu\")(x)\n",
    "x = layers.MaxPooling1D(5)(x)\n",
    "x = layers.Conv1D(fz, ker, activation=\"relu\")(x)\n",
    "x = layers.GlobalMaxPooling1D()(x)\n",
    "x = layers.Dense(fz, activation=\"relu\")(x)\n",
    "x = layers.Dropout(0.5)(x)\n",
    "preds = layers.Dense(len(class_names), activation=\"softmax\")(x)\n",
    "model = keras.Model(int_sequences_input, preds)\n",
    "model.summary()"
   ]
  },
  {
   "cell_type": "code",
   "execution_count": 25,
   "metadata": {},
   "outputs": [],
   "source": [
    "# Same Optimizer as VQC with same learning rate and nesterov momentum \n",
    "opt = tf.keras.optimizers.SGD(learning_rate=0.05,momentum=0.9,nesterov=True)  "
   ]
  },
  {
   "cell_type": "code",
   "execution_count": 24,
   "metadata": {},
   "outputs": [
    {
     "name": "stdout",
     "output_type": "stream",
     "text": [
      "Epoch 1/80\n",
      "2/2 [==============================] - 15s 2s/step - loss: 0.2501 - acc: 0.4286 - val_loss: 0.2501 - val_acc: 0.5333\n",
      "Epoch 2/80\n",
      "2/2 [==============================] - 0s 29ms/step - loss: 0.2501 - acc: 0.4667 - val_loss: 0.2500 - val_acc: 0.4889\n",
      "Epoch 3/80\n",
      "2/2 [==============================] - 0s 29ms/step - loss: 0.2501 - acc: 0.4762 - val_loss: 0.2500 - val_acc: 0.4667\n",
      "Epoch 4/80\n",
      "2/2 [==============================] - 0s 26ms/step - loss: 0.2501 - acc: 0.4000 - val_loss: 0.2500 - val_acc: 0.5111\n",
      "Epoch 5/80\n",
      "2/2 [==============================] - 0s 28ms/step - loss: 0.2501 - acc: 0.3429 - val_loss: 0.2500 - val_acc: 0.4889\n",
      "Epoch 6/80\n",
      "2/2 [==============================] - 0s 28ms/step - loss: 0.2501 - acc: 0.4286 - val_loss: 0.2500 - val_acc: 0.4667\n",
      "Epoch 7/80\n",
      "2/2 [==============================] - 0s 31ms/step - loss: 0.2501 - acc: 0.4190 - val_loss: 0.2500 - val_acc: 0.4444\n",
      "Epoch 8/80\n",
      "2/2 [==============================] - 0s 33ms/step - loss: 0.2501 - acc: 0.5524 - val_loss: 0.2500 - val_acc: 0.4889\n",
      "Epoch 9/80\n",
      "2/2 [==============================] - 0s 29ms/step - loss: 0.2501 - acc: 0.3810 - val_loss: 0.2500 - val_acc: 0.4667\n",
      "Epoch 10/80\n",
      "2/2 [==============================] - 0s 28ms/step - loss: 0.2501 - acc: 0.5238 - val_loss: 0.2500 - val_acc: 0.4667\n",
      "Epoch 11/80\n",
      "2/2 [==============================] - 0s 30ms/step - loss: 0.2501 - acc: 0.4476 - val_loss: 0.2500 - val_acc: 0.4889\n",
      "Epoch 12/80\n",
      "2/2 [==============================] - 0s 28ms/step - loss: 0.2501 - acc: 0.4762 - val_loss: 0.2500 - val_acc: 0.5111\n",
      "Epoch 13/80\n",
      "2/2 [==============================] - 0s 28ms/step - loss: 0.2501 - acc: 0.3905 - val_loss: 0.2500 - val_acc: 0.4889\n",
      "Epoch 14/80\n",
      "2/2 [==============================] - 0s 37ms/step - loss: 0.2501 - acc: 0.4381 - val_loss: 0.2500 - val_acc: 0.4889\n",
      "Epoch 15/80\n",
      "2/2 [==============================] - 0s 30ms/step - loss: 0.2500 - acc: 0.4857 - val_loss: 0.2500 - val_acc: 0.4667\n",
      "Epoch 16/80\n",
      "2/2 [==============================] - 0s 29ms/step - loss: 0.2500 - acc: 0.3714 - val_loss: 0.2500 - val_acc: 0.4667\n",
      "Epoch 17/80\n",
      "2/2 [==============================] - 0s 29ms/step - loss: 0.2500 - acc: 0.4190 - val_loss: 0.2500 - val_acc: 0.4667\n",
      "Epoch 18/80\n",
      "2/2 [==============================] - 0s 28ms/step - loss: 0.2500 - acc: 0.3810 - val_loss: 0.2500 - val_acc: 0.4667\n",
      "Epoch 19/80\n",
      "2/2 [==============================] - 0s 33ms/step - loss: 0.2501 - acc: 0.4667 - val_loss: 0.2500 - val_acc: 0.4889\n",
      "Epoch 20/80\n",
      "2/2 [==============================] - 0s 30ms/step - loss: 0.2501 - acc: 0.4381 - val_loss: 0.2500 - val_acc: 0.4667\n",
      "Epoch 21/80\n",
      "2/2 [==============================] - 0s 29ms/step - loss: 0.2501 - acc: 0.4000 - val_loss: 0.2500 - val_acc: 0.4667\n",
      "Epoch 22/80\n",
      "2/2 [==============================] - 0s 29ms/step - loss: 0.2500 - acc: 0.4381 - val_loss: 0.2500 - val_acc: 0.4667\n",
      "Epoch 23/80\n",
      "2/2 [==============================] - 0s 29ms/step - loss: 0.2500 - acc: 0.3905 - val_loss: 0.2500 - val_acc: 0.5111\n",
      "Epoch 24/80\n",
      "2/2 [==============================] - 0s 28ms/step - loss: 0.2500 - acc: 0.3429 - val_loss: 0.2500 - val_acc: 0.5111\n",
      "Epoch 25/80\n",
      "2/2 [==============================] - 0s 29ms/step - loss: 0.2500 - acc: 0.4381 - val_loss: 0.2500 - val_acc: 0.4889\n",
      "Epoch 26/80\n",
      "2/2 [==============================] - 0s 28ms/step - loss: 0.2500 - acc: 0.3524 - val_loss: 0.2500 - val_acc: 0.4889\n",
      "Epoch 27/80\n",
      "2/2 [==============================] - 0s 29ms/step - loss: 0.2500 - acc: 0.3714 - val_loss: 0.2500 - val_acc: 0.5111\n",
      "Epoch 28/80\n",
      "2/2 [==============================] - 0s 30ms/step - loss: 0.2500 - acc: 0.4476 - val_loss: 0.2500 - val_acc: 0.4889\n",
      "Epoch 29/80\n",
      "2/2 [==============================] - 0s 28ms/step - loss: 0.2500 - acc: 0.3714 - val_loss: 0.2500 - val_acc: 0.4889\n",
      "Epoch 30/80\n",
      "2/2 [==============================] - 0s 29ms/step - loss: 0.2500 - acc: 0.4000 - val_loss: 0.2500 - val_acc: 0.4667\n",
      "Epoch 31/80\n",
      "2/2 [==============================] - 0s 27ms/step - loss: 0.2500 - acc: 0.4571 - val_loss: 0.2500 - val_acc: 0.4667\n",
      "Epoch 32/80\n",
      "2/2 [==============================] - 0s 29ms/step - loss: 0.2500 - acc: 0.4190 - val_loss: 0.2500 - val_acc: 0.4667\n",
      "Epoch 33/80\n",
      "2/2 [==============================] - 0s 29ms/step - loss: 0.2500 - acc: 0.4667 - val_loss: 0.2500 - val_acc: 0.4889\n",
      "Epoch 34/80\n",
      "2/2 [==============================] - 0s 29ms/step - loss: 0.2500 - acc: 0.4381 - val_loss: 0.2500 - val_acc: 0.4889\n",
      "Epoch 35/80\n",
      "2/2 [==============================] - 0s 28ms/step - loss: 0.2500 - acc: 0.4762 - val_loss: 0.2500 - val_acc: 0.5111\n",
      "Epoch 36/80\n",
      "2/2 [==============================] - 0s 29ms/step - loss: 0.2500 - acc: 0.4667 - val_loss: 0.2500 - val_acc: 0.5111\n",
      "Epoch 37/80\n",
      "2/2 [==============================] - 0s 30ms/step - loss: 0.2500 - acc: 0.4381 - val_loss: 0.2500 - val_acc: 0.5111\n",
      "Epoch 38/80\n",
      "2/2 [==============================] - 0s 29ms/step - loss: 0.2500 - acc: 0.4571 - val_loss: 0.2500 - val_acc: 0.5111\n",
      "Epoch 39/80\n",
      "2/2 [==============================] - 0s 29ms/step - loss: 0.2500 - acc: 0.4571 - val_loss: 0.2500 - val_acc: 0.5111\n",
      "Epoch 40/80\n",
      "2/2 [==============================] - 0s 28ms/step - loss: 0.2500 - acc: 0.4571 - val_loss: 0.2500 - val_acc: 0.5111\n",
      "Epoch 41/80\n",
      "2/2 [==============================] - 0s 32ms/step - loss: 0.2500 - acc: 0.4000 - val_loss: 0.2500 - val_acc: 0.5111\n",
      "Epoch 42/80\n",
      "2/2 [==============================] - 0s 28ms/step - loss: 0.2500 - acc: 0.4476 - val_loss: 0.2500 - val_acc: 0.5111\n",
      "Epoch 43/80\n",
      "2/2 [==============================] - 0s 27ms/step - loss: 0.2500 - acc: 0.4000 - val_loss: 0.2500 - val_acc: 0.5111\n",
      "Epoch 44/80\n",
      "2/2 [==============================] - 0s 29ms/step - loss: 0.2500 - acc: 0.4476 - val_loss: 0.2500 - val_acc: 0.5111\n",
      "Epoch 45/80\n",
      "2/2 [==============================] - 0s 28ms/step - loss: 0.2500 - acc: 0.4381 - val_loss: 0.2500 - val_acc: 0.4889\n",
      "Epoch 46/80\n",
      "2/2 [==============================] - 0s 27ms/step - loss: 0.2500 - acc: 0.4190 - val_loss: 0.2500 - val_acc: 0.4889\n",
      "Epoch 47/80\n",
      "2/2 [==============================] - 0s 29ms/step - loss: 0.2500 - acc: 0.4381 - val_loss: 0.2500 - val_acc: 0.4667\n",
      "Epoch 48/80\n",
      "2/2 [==============================] - 0s 29ms/step - loss: 0.2500 - acc: 0.4667 - val_loss: 0.2500 - val_acc: 0.4667\n",
      "Epoch 49/80\n",
      "2/2 [==============================] - 0s 29ms/step - loss: 0.2500 - acc: 0.4571 - val_loss: 0.2500 - val_acc: 0.4444\n",
      "Epoch 50/80\n",
      "2/2 [==============================] - 0s 29ms/step - loss: 0.2500 - acc: 0.4762 - val_loss: 0.2500 - val_acc: 0.4444\n",
      "Epoch 51/80\n",
      "2/2 [==============================] - 0s 27ms/step - loss: 0.2500 - acc: 0.4476 - val_loss: 0.2500 - val_acc: 0.4444\n",
      "Epoch 52/80\n",
      "2/2 [==============================] - 0s 30ms/step - loss: 0.2500 - acc: 0.4571 - val_loss: 0.2500 - val_acc: 0.4444\n",
      "Epoch 53/80\n",
      "2/2 [==============================] - 0s 29ms/step - loss: 0.2500 - acc: 0.5048 - val_loss: 0.2500 - val_acc: 0.4444\n",
      "Epoch 54/80\n",
      "2/2 [==============================] - 0s 31ms/step - loss: 0.2500 - acc: 0.4762 - val_loss: 0.2500 - val_acc: 0.4444\n",
      "Epoch 55/80\n",
      "2/2 [==============================] - 0s 30ms/step - loss: 0.2500 - acc: 0.4095 - val_loss: 0.2500 - val_acc: 0.4444\n",
      "Epoch 56/80\n",
      "2/2 [==============================] - 0s 27ms/step - loss: 0.2500 - acc: 0.4381 - val_loss: 0.2500 - val_acc: 0.4444\n",
      "Epoch 57/80\n",
      "2/2 [==============================] - 0s 27ms/step - loss: 0.2500 - acc: 0.4381 - val_loss: 0.2500 - val_acc: 0.4444\n",
      "Epoch 58/80\n",
      "2/2 [==============================] - 0s 30ms/step - loss: 0.2500 - acc: 0.4190 - val_loss: 0.2500 - val_acc: 0.4444\n",
      "Epoch 59/80\n",
      "2/2 [==============================] - 0s 30ms/step - loss: 0.2500 - acc: 0.4762 - val_loss: 0.2500 - val_acc: 0.4444\n",
      "Epoch 60/80\n",
      "2/2 [==============================] - 0s 29ms/step - loss: 0.2500 - acc: 0.4571 - val_loss: 0.2500 - val_acc: 0.4444\n",
      "Epoch 61/80\n",
      "2/2 [==============================] - 0s 28ms/step - loss: 0.2500 - acc: 0.4952 - val_loss: 0.2500 - val_acc: 0.4444\n",
      "Epoch 62/80\n",
      "2/2 [==============================] - 0s 27ms/step - loss: 0.2500 - acc: 0.4667 - val_loss: 0.2500 - val_acc: 0.4444\n",
      "Epoch 63/80\n",
      "2/2 [==============================] - 0s 28ms/step - loss: 0.2500 - acc: 0.4286 - val_loss: 0.2500 - val_acc: 0.4444\n",
      "Epoch 64/80\n",
      "2/2 [==============================] - 0s 27ms/step - loss: 0.2500 - acc: 0.4667 - val_loss: 0.2500 - val_acc: 0.4444\n",
      "Epoch 65/80\n",
      "2/2 [==============================] - 0s 29ms/step - loss: 0.2500 - acc: 0.4476 - val_loss: 0.2500 - val_acc: 0.4444\n",
      "Epoch 66/80\n",
      "2/2 [==============================] - 0s 30ms/step - loss: 0.2500 - acc: 0.4476 - val_loss: 0.2500 - val_acc: 0.4444\n",
      "Epoch 67/80\n",
      "2/2 [==============================] - 0s 28ms/step - loss: 0.2500 - acc: 0.4762 - val_loss: 0.2500 - val_acc: 0.4444\n",
      "Epoch 68/80\n",
      "2/2 [==============================] - 0s 30ms/step - loss: 0.2500 - acc: 0.5143 - val_loss: 0.2500 - val_acc: 0.4444\n",
      "Epoch 69/80\n",
      "2/2 [==============================] - 0s 29ms/step - loss: 0.2500 - acc: 0.5238 - val_loss: 0.2500 - val_acc: 0.4667\n",
      "Epoch 70/80\n",
      "2/2 [==============================] - 0s 33ms/step - loss: 0.2500 - acc: 0.4571 - val_loss: 0.2500 - val_acc: 0.4667\n",
      "Epoch 71/80\n",
      "2/2 [==============================] - 0s 31ms/step - loss: 0.2500 - acc: 0.4667 - val_loss: 0.2500 - val_acc: 0.4889\n",
      "Epoch 72/80\n",
      "2/2 [==============================] - 0s 28ms/step - loss: 0.2500 - acc: 0.4762 - val_loss: 0.2500 - val_acc: 0.4889\n",
      "Epoch 73/80\n",
      "2/2 [==============================] - 0s 28ms/step - loss: 0.2500 - acc: 0.5143 - val_loss: 0.2500 - val_acc: 0.4889\n",
      "Epoch 74/80\n",
      "2/2 [==============================] - 0s 29ms/step - loss: 0.2500 - acc: 0.4952 - val_loss: 0.2500 - val_acc: 0.5111\n",
      "Epoch 75/80\n",
      "2/2 [==============================] - 0s 29ms/step - loss: 0.2500 - acc: 0.4952 - val_loss: 0.2500 - val_acc: 0.5333\n",
      "Epoch 76/80\n",
      "2/2 [==============================] - 0s 29ms/step - loss: 0.2500 - acc: 0.4857 - val_loss: 0.2500 - val_acc: 0.5333\n",
      "Epoch 77/80\n",
      "2/2 [==============================] - 0s 30ms/step - loss: 0.2500 - acc: 0.4667 - val_loss: 0.2500 - val_acc: 0.5333\n",
      "Epoch 78/80\n",
      "2/2 [==============================] - 0s 33ms/step - loss: 0.2500 - acc: 0.5333 - val_loss: 0.2500 - val_acc: 0.5333\n",
      "Epoch 79/80\n",
      "2/2 [==============================] - 0s 29ms/step - loss: 0.2500 - acc: 0.4571 - val_loss: 0.2500 - val_acc: 0.5333\n",
      "Epoch 80/80\n",
      "2/2 [==============================] - 0s 30ms/step - loss: 0.2500 - acc: 0.4857 - val_loss: 0.2500 - val_acc: 0.5333\n"
     ]
    }
   ],
   "source": [
    "model.compile(\n",
    "    loss=tf.keras.losses.MeanSquaredError(), optimizer=opt, metrics=[\"acc\"]\n",
    ")\n",
    "ag_news = model.fit(x_train, y_train, batch_size=70, epochs=80, validation_data=(x_test, y_test))"
   ]
  },
  {
   "cell_type": "code",
   "execution_count": null,
   "metadata": {},
   "outputs": [],
   "source": [
    "import matplotlib.pyplot as plt"
   ]
  },
  {
   "cell_type": "code",
   "execution_count": 44,
   "metadata": {},
   "outputs": [
    {
     "data": {
      "image/png": "[encoded data removed]",
      "text/plain": [
       "<Figure size 720x576 with 1 Axes>"
      ]
     },
     "metadata": {
      "needs_background": "light"
     },
     "output_type": "display_data"
    }
   ],
   "source": [
    "from matplotlib import pyplot as plt\n",
    "plt.figure(figsize=(10,8))\n",
    "plt.plot(ag_news.history['acc'])\n",
    "plt.plot(ag_news.history['loss'])\n",
    "plt.plot(ag_news.history['val_acc'])\n",
    "plt.xlabel('epoch')\n",
    "plt.legend(['train','loss', 'val'], loc='lower right')\n",
    "plt.title('TextCNN with AG NEWS, LR=0.05,momentum=0.9 with Nesterov')\n",
    "plt.xlim(xmin=0.0)\n",
    "plt.ylim(ymin=0.0)\n",
    "plt.axhline(y=0.5,color='r',ls='dashed')\n",
    "\n",
    "plt.show()"
   ]
  },
  {
   "cell_type": "code",
   "execution_count": null,
   "metadata": {},
   "outputs": [],
   "source": []
  }
 ],
 "metadata": {
  "kernelspec": {
   "display_name": "Python 3.8.12 ('qc')",
   "language": "python",
   "name": "python3"
  },
  "language_info": {
   "codemirror_mode": {
    "name": "ipython",
    "version": 3
   },
   "file_extension": ".py",
   "mimetype": "text/x-python",
   "name": "python",
   "nbconvert_exporter": "python",
   "pygments_lexer": "ipython3",
   "version": "3.8.12"
  },
  "orig_nbformat": 4,
  "vscode": {
   "interpreter": {
    "hash": "01e8a6da9a49d9104296038562020976433a3d921661fdda7bcdf390e6a6d8cf"
   }
  }
 },
 "nbformat": 4,
 "nbformat_minor": 2
}
